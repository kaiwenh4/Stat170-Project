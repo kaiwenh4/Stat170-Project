{
 "cells": [
  {
   "cell_type": "code",
   "execution_count": 6,
   "metadata": {},
   "outputs": [
    {
     "name": "stderr",
     "output_type": "stream",
     "text": [
      "Using cache found in C:\\Users\\kev/.cache\\torch\\hub\\ultralytics_yolov5_master\n",
      "YOLOv5  2022-4-15 torch 1.11.0+cu113 CUDA:0 (NVIDIA GeForce GTX 1070, 8192MiB)\n",
      "\n",
      "Fusing layers... \n",
      "YOLOv5s summary: 213 layers, 7225885 parameters, 0 gradients\n",
      "Adding AutoShape... \n"
     ]
    }
   ],
   "source": [
    "import torch\n",
    "\n",
    "# Model\n",
    "model = torch.hub.load('ultralytics/yolov5', 'yolov5s')  # or yolov5m, yolov5l, yolov5x, custom"
   ]
  },
  {
   "cell_type": "code",
   "execution_count": 9,
   "metadata": {},
   "outputs": [],
   "source": [
    "# Images\n",
    "img = 'C:\\\\Users\\\\kev\\\\Desktop\\\\1.jpg'  # or file, Path, PIL, OpenCV, numpy, list\n",
    "\n",
    "# Inference\n",
    "results = model(img)\n",
    "\n",
    "# Results\n",
    "results.show() # or .show(), .save(), .crop(), .pandas(), etc."
   ]
  },
  {
   "cell_type": "code",
   "execution_count": 8,
   "metadata": {},
   "outputs": [
    {
     "data": {
      "text/plain": [
       "[         xmin        ymin        xmax        ymax  confidence  class      name\n",
       " 0  297.482574  178.161301  358.596069  285.775482    0.495129      0    person\n",
       " 1  323.396759  171.154221  436.201416  297.101349    0.450305      0    person\n",
       " 2   14.951080  145.828278   70.512360  172.107880    0.415152      0    person\n",
       " 3  231.034821  182.097931  295.449615  235.798889    0.314190     62        tv\n",
       " 4  390.934662  178.523560  441.211975  281.887787    0.300762      0    person\n",
       " 5  223.225189  821.492676  275.100342  888.611511    0.258967     73      book\n",
       " 6  149.255264  496.927155  254.526566  549.980042    0.257268     48  sandwich]"
      ]
     },
     "execution_count": 8,
     "metadata": {},
     "output_type": "execute_result"
    }
   ],
   "source": [
    "\"\"\"\n",
    "dict_keys(['imgs', 'pred', 'names', 'files', 'times', 'xyxy', 'xywh', 'xyxyn', 'xywhn', 'n', 't', 's'])\n",
    "\"\"\"\n",
    "# all the predictions\n",
    "results.pandas().xyxy"
   ]
  }
 ],
 "metadata": {
  "interpreter": {
   "hash": "07efdcd4b820c98a756949507a4d29d7862823915ec7477944641bea022f4f62"
  },
  "kernelspec": {
   "display_name": "Python 3.8.5 ('base')",
   "language": "python",
   "name": "python3"
  },
  "language_info": {
   "codemirror_mode": {
    "name": "ipython",
    "version": 3
   },
   "file_extension": ".py",
   "mimetype": "text/x-python",
   "name": "python",
   "nbconvert_exporter": "python",
   "pygments_lexer": "ipython3",
   "version": "3.8.5"
  },
  "orig_nbformat": 4
 },
 "nbformat": 4,
 "nbformat_minor": 2
}
