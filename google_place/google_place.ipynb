{
 "cells": [
  {
   "cell_type": "markdown",
   "metadata": {},
   "source": [
    "# Google place API exlporing"
   ]
  },
  {
   "cell_type": "code",
   "execution_count": null,
   "metadata": {},
   "outputs": [],
   "source": [
    "a = [\n",
    "          {\n",
    "            \"author_name\": \"Mark Smith (Mark ZZZ Smith)\",\n",
    "            \"author_url\": \"https://www.google.com/maps/contrib/109015045837507592030/reviews\",\n",
    "            \"language\": \"en\",\n",
    "            \"profile_photo_url\": \"https://lh3.googleusercontent.com/a-/AOh14Gi-thk-CV41Ymw9Udvr0O5WL8Iguf9HYAKKyEWDxw=s128-c0x00000000-cc-rp-mo\",\n",
    "            \"rating\": 5,\n",
    "            \"relative_time_description\": \"a year ago\",\n",
    "            \"text\": \"Great place to visit, cafeteria great. Also has a good toilet.\",\n",
    "            \"time\": 1589072760,\n",
    "          },\n",
    "          {\n",
    "            \"author_name\": \"Agent Cliff (The Mediator)\",\n",
    "            \"author_url\": \"https://www.google.com/maps/contrib/100253428394439543029/reviews\",\n",
    "            \"language\": \"en\",\n",
    "            \"profile_photo_url\": \"https://lh3.googleusercontent.com/a-/AOh14GhSLTmC1QVzI8oXWkDvqv_fTq1Xmm7_gM2udfRlbw=s128-c0x00000000-cc-rp-mo-ba3\",\n",
    "            \"rating\": 4,\n",
    "            \"relative_time_description\": \"5 months ago\",\n",
    "            \"text\": \"Had an office tour here a few years ago and absolutely loved the look of it , as an AV person I was very impressed with the meeting rooms and loved the themes. Most of the staff were generally friendly and I was offered a range of different waters when waiting at reception.\\n\\nThe office is beautifully designed, onsite chef cooked a pretty alright lunch, staff interviewing as well were quite friendly and knew to be precise for technical interviews. I’d like to come back again one day for another tour just to see how it’s all going :)\",\n",
    "            \"time\": 1614291725,\n",
    "          },\n",
    "          {\n",
    "            \"author_name\": \"Xavier Le Baron\",\n",
    "            \"author_url\": \"https://www.google.com/maps/contrib/104602961630797902494/reviews\",\n",
    "            \"language\": \"en\",\n",
    "            \"profile_photo_url\": \"https://lh3.googleusercontent.com/a-/AOh14GhbuCpv4_XNH8EWPZoGFwgWjiCQvCcVYiwJNxnMIPs=s128-c0x00000000-cc-rp-mo-ba4\",\n",
    "            \"rating\": 5,\n",
    "            \"relative_time_description\": \"3 months ago\",\n",
    "            \"text\": \"Possibly the best office in Sydney? :)\\nWhat an amazing place to work at!\",\n",
    "            \"time\": 1618388082,\n",
    "          },\n",
    "          {\n",
    "            \"author_name\": \"Binod Mainali\",\n",
    "            \"author_url\": \"https://www.google.com/maps/contrib/110005203185645729740/reviews\",\n",
    "            \"language\": \"en\",\n",
    "            \"profile_photo_url\": \"https://lh3.googleusercontent.com/a-/AOh14GitXX8rr6uxnCeLo4Kwd_UKm7ctfOYH9r7tcocqeg=s128-c0x00000000-cc-rp-mo\",\n",
    "            \"rating\": 1,\n",
    "            \"relative_time_description\": \"6 months ago\",\n",
    "            \"text\": \"I had some problem with google account, there is no way to contact google customer service. The only people i can contact to is the google ad Team. Google only cares about its ad what a selfish tech. There is not even a live chat, my password linked with google is compromised but there is no one to talk to. the 1800 no is a useless no or even the no provided at this store is useless. Google support only asks to send a feedback of the problem and nothing else. I had sent it but its been more than a month no one has contacted still. Such a selfish, greedy billionaire tech giant. Cant believe, even a small struggling bussiness has someone to chat to. Such a low pathetic moral of google . Humanity will not be too long if our biggest tech are surround by just greed of $$$$$$....Shame on you # greedygoogle#greedysundarpichai#Australiagoogletaxloot.\",\n",
    "            \"time\": 1611295578,\n",
    "          },\n",
    "          {\n",
    "            \"author_name\": \"doug cliff\",\n",
    "            \"author_url\": \"https://www.google.com/maps/contrib/114222669528052367599/reviews\",\n",
    "            \"language\": \"en\",\n",
    "            \"profile_photo_url\": \"https://lh3.googleusercontent.com/a-/AOh14Gjbd1ELb3S4E0R10kvV2h9EtBuME8xb9yWbtXa3qyU=s128-c0x00000000-cc-rp-mo-ba6\",\n",
    "            \"rating\": 4,\n",
    "            \"relative_time_description\": \"7 months ago\",\n",
    "            \"text\": \"It appears from reading the reviews that Google in not too good at talking to people on the phone. I guess when you are as big as they are they can do what they want as there is not really another alternative. I use their services such as maps and mail but also contribute a lot of data such as photo’s and reviews. I was under the impression that what I was doing was helping others in the community. I had not realised that google could pick and choose who used these services and can block out any one out they don’t like. I was very upset when they black baned some Chinese manufactures who are making really good products. I had also not realised that Google is a slave to any crazy president that gets into power. Anyway I will keep using  their products as they are good and hope that one day they will be available for all to use.\",\n",
    "            \"time\": 1608012004,\n",
    "          },\n",
    "        ]\n",
    "import pandas as pd\n",
    "t = pd.DataFrame.from_dict(a).filter(items=[\"author_name\",\"rating\",\"relative_time_description\",\"text\",\"time\"])\n",
    "tt = t.author_name.str.split()\n",
    "a = []\n",
    "for i in tt:\n",
    "    if i[-1][-1] == \")\":\n",
    "        a.append(i[-1][:-1])\n",
    "    else:\n",
    "        a.append(i[-1])\n",
    "t.author_name = a\n",
    "t = t.rename(columns={\"author_name\":\"last name\"})\n",
    "t"
   ]
  }
 ],
 "metadata": {
  "interpreter": {
   "hash": "07efdcd4b820c98a756949507a4d29d7862823915ec7477944641bea022f4f62"
  },
  "kernelspec": {
   "display_name": "Python 3.8.5 ('base')",
   "language": "python",
   "name": "python3"
  },
  "language_info": {
   "codemirror_mode": {
    "name": "ipython",
    "version": 3
   },
   "file_extension": ".py",
   "mimetype": "text/x-python",
   "name": "python",
   "nbconvert_exporter": "python",
   "pygments_lexer": "ipython3",
   "version": "3.8.5"
  },
  "orig_nbformat": 4
 },
 "nbformat": 4,
 "nbformat_minor": 2
}
