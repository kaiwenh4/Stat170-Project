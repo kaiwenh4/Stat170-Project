{
 "cells": [
  {
   "cell_type": "code",
   "execution_count": 117,
   "metadata": {},
   "outputs": [
    {
     "data": {
      "text/plain": [
       "DENSITY_2021         object\n",
       "NPOPCHG_2021         object\n",
       "POP_2021             object\n",
       "RANK_PPOPCHG_2021    object\n",
       "PPOPCHG_2021         object\n",
       "state                object\n",
       "dtype: object"
      ]
     },
     "execution_count": 117,
     "metadata": {},
     "output_type": "execute_result"
    }
   ],
   "source": [
    "import requests\n",
    "import pandas as pd\n",
    "\n",
    "# request from web\n",
    "fields = ['DENSITY_2021','NPOPCHG_2021','POP_2021','RANK_PPOPCHG_2021','PPOPCHG_2021']\n",
    "fields = ','.join(fields)\n",
    "url = f\"https://api.census.gov/data/2021/pep/population?get={fields}&for=state:*\"\n",
    "\n",
    "# get and format result \n",
    "content = requests.get(url)\n",
    "result = pd.DataFrame(content.json(),columns = content.json()[0])[1:]\n",
    "result\n",
    "\n",
    "# get state name and code pair \n",
    "state = requests.get(\"https://api.census.gov/data/2020/dec/pl?get=NAME&for=state:*\")\n",
    "state = pd.DataFrame(state.json(),columns = state.json()[0])[1:]\n",
    "\n",
    "# converting the state code to state name \n",
    "d = {}\n",
    "for state_name,code in state.values:\n",
    "    d[code]=state_name\n",
    "temp = []\n",
    "for i in result['state']:\n",
    "    temp.append(d[i])\n",
    "result['state'] = temp\n",
    "\n",
    "\n",
    "'''\n",
    "2015-2022\n",
    "DENSITY_2021: Density (persons per square mile), Population Estimate, July 1, 2021\n",
    "NPOPCHG_2021: Numeric Change in Population, July 1, 2020 to July 1, 2021\n",
    "POP_2021:     Population Estimate, July 1, 2021\n",
    "RANK_PPOPCHG_2021:\t人口百分比变化排名, 2020 年 7 月 1 日至 2021 年 7 月 1 日\n",
    "PPOPCHG_2021:\t人口变化百分比, 2020 年 7 月 1 日至 2021 年 7 月 1 日\n",
    "'''\n",
    "\n",
    "result"
   ]
  },
  {
   "cell_type": "code",
   "execution_count": 128,
   "metadata": {},
   "outputs": [
    {
     "data": {
      "text/plain": [
       "[['PCTPOV', 'PCTUNRELPOV', 'POP', 'POV', 'RACE', 'time'],\n",
       " ['11.3', '19.0', '278944', '31581', '1', '2000'],\n",
       " ['9.5', '17.1', '227846', '21645', '3', '2000'],\n",
       " ['7.4', '15.8', '193691', '14366', '5', '2000'],\n",
       " ['22.5', '28.9', '35425', '7982', '8', '2000'],\n",
       " ['9.9', '22.0', '12672', '1258', '11', '2000'],\n",
       " ['21.5', '29.2', '35955', '7747', '12', '2000']]"
      ]
     },
     "execution_count": 128,
     "metadata": {},
     "output_type": "execute_result"
    }
   ],
   "source": [
    "fields = ','.join(['PCTPOV','PCTUNRELPOV','POP','POV','RACE'])\n",
    "url = f\"https://api.census.gov/data/timeseries/poverty/histpov2?get={fields}&time=2000\"\n",
    "content = requests.get(url).json()\n",
    "\n",
    "\"\"\"\n",
    "PCTPOV:\tAll People!!Below Poverty Level!!Percent\n",
    "PCTUNRELPOV:\tPeople in Families!!Unrelated Individuals!!Below Poverty Level!!Percent\n",
    "POP:\tAll People!!Total NOTE: Numbers in thousands. People as of March of the following year\n",
    "POV:\tAll People!!Below Poverty Level!!Number NOTE: Numbers in thousands. People as of March of the following year\n",
    "RACE\n",
    "    1. All Races\n",
    "    2. White Alone\n",
    "    3. White\n",
    "    4. White Alone, Not Hispanic\n",
    "    5. White, Not Hispanic\n",
    "    6. Black Alone or in Combination\n",
    "    7. Black Alone\n",
    "    8. Black\n",
    "    9. Asian Alone or in Combination\n",
    "    10. Asian Alone\n",
    "    11. Asian and Pacific Islander\n",
    "    12. Hispanic (of any race)\n",
    "\"\"\"\n",
    "\n",
    "content"
   ]
  },
  {
   "cell_type": "code",
   "execution_count": null,
   "metadata": {},
   "outputs": [],
   "source": [
    "fields = ','.join(['COUNTY','PCTUNRELPOV','POP','POV','RACE'])\n",
    "url = f\"https://api.census.gov/data/2017/ecnbasic?get={fields}&for=us:*\"\n",
    "content = requests.get(url).json()\n",
    "\n",
    "\"\"\"\n",
    "\n",
    "\"\"\"\n",
    "\n",
    "content"
   ]
  }
 ],
 "metadata": {
  "interpreter": {
   "hash": "07efdcd4b820c98a756949507a4d29d7862823915ec7477944641bea022f4f62"
  },
  "kernelspec": {
   "display_name": "Python 3.8.5 ('base')",
   "language": "python",
   "name": "python3"
  },
  "language_info": {
   "codemirror_mode": {
    "name": "ipython",
    "version": 3
   },
   "file_extension": ".py",
   "mimetype": "text/x-python",
   "name": "python",
   "nbconvert_exporter": "python",
   "pygments_lexer": "ipython3",
   "version": "3.8.5"
  },
  "orig_nbformat": 4
 },
 "nbformat": 4,
 "nbformat_minor": 2
}
